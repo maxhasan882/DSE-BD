{
 "cells": [
  {
   "cell_type": "code",
   "execution_count": 1,
   "metadata": {},
   "outputs": [],
   "source": [
    "import numpy as np\n",
    "import pandas as pd\n",
    "import matplotlib.pyplot as plt\n",
    "from sklearn.preprocessing import OneHotEncoder, LabelEncoder\n",
    "from sklearn.preprocessing import MinMaxScaler\n",
    "from sklearn.ensemble import RandomForestRegressor"
   ]
  },
  {
   "cell_type": "code",
   "execution_count": 2,
   "metadata": {},
   "outputs": [],
   "source": [
    "file = ['2008.csv','2009.csv','2010.csv', '2011.csv', '2012.csv', '2013.csv', '2014.csv', '2015.csv', '2016.csv', '2017.csv']"
   ]
  },
  {
   "cell_type": "code",
   "execution_count": 3,
   "metadata": {},
   "outputs": [],
   "source": [
    "temp = [pd.read_csv(f) for f in file]"
   ]
  },
  {
   "cell_type": "code",
   "execution_count": 4,
   "metadata": {},
   "outputs": [],
   "source": [
    "data = pd.concat(temp, ignore_index=True)"
   ]
  },
  {
   "cell_type": "code",
   "execution_count": 5,
   "metadata": {},
   "outputs": [
    {
     "name": "stdout",
     "output_type": "stream",
     "text": [
      "<class 'pandas.core.frame.DataFrame'>\n",
      "RangeIndex: 1181482 entries, 0 to 1181481\n",
      "Data columns (total 11 columns):\n",
      "date                        1181482 non-null object\n",
      "trading_code                1181482 non-null object\n",
      "last_traded_price           1181482 non-null float64\n",
      "high                        1181482 non-null float64\n",
      "low                         1181482 non-null float64\n",
      "opening_price               1181482 non-null float64\n",
      "closing_price               1181482 non-null float64\n",
      "yesterdays_closing_price    1181482 non-null float64\n",
      "trade                       1181482 non-null int64\n",
      "value_mn                    1181482 non-null float64\n",
      "volume                      1181482 non-null int64\n",
      "dtypes: float64(7), int64(2), object(2)\n",
      "memory usage: 99.2+ MB\n"
     ]
    }
   ],
   "source": [
    "data.info()"
   ]
  },
  {
   "cell_type": "code",
   "execution_count": 6,
   "metadata": {},
   "outputs": [
    {
     "data": {
      "text/html": [
       "<div>\n",
       "<style scoped>\n",
       "    .dataframe tbody tr th:only-of-type {\n",
       "        vertical-align: middle;\n",
       "    }\n",
       "\n",
       "    .dataframe tbody tr th {\n",
       "        vertical-align: top;\n",
       "    }\n",
       "\n",
       "    .dataframe thead th {\n",
       "        text-align: right;\n",
       "    }\n",
       "</style>\n",
       "<table border=\"1\" class=\"dataframe\">\n",
       "  <thead>\n",
       "    <tr style=\"text-align: right;\">\n",
       "      <th></th>\n",
       "      <th>date</th>\n",
       "      <th>trading_code</th>\n",
       "      <th>last_traded_price</th>\n",
       "      <th>high</th>\n",
       "      <th>low</th>\n",
       "      <th>opening_price</th>\n",
       "      <th>closing_price</th>\n",
       "      <th>yesterdays_closing_price</th>\n",
       "      <th>trade</th>\n",
       "      <th>value_mn</th>\n",
       "      <th>volume</th>\n",
       "    </tr>\n",
       "  </thead>\n",
       "  <tbody>\n",
       "    <tr>\n",
       "      <th>0</th>\n",
       "      <td>2008-12-30 00:00:00</td>\n",
       "      <td>1STBSRS</td>\n",
       "      <td>823.00</td>\n",
       "      <td>840.00</td>\n",
       "      <td>819.0</td>\n",
       "      <td>825.0</td>\n",
       "      <td>826.25</td>\n",
       "      <td>825.75</td>\n",
       "      <td>86</td>\n",
       "      <td>4.1475</td>\n",
       "      <td>5000</td>\n",
       "    </tr>\n",
       "    <tr>\n",
       "      <th>1</th>\n",
       "      <td>2008-12-28 00:00:00</td>\n",
       "      <td>1STBSRS</td>\n",
       "      <td>817.00</td>\n",
       "      <td>829.00</td>\n",
       "      <td>802.0</td>\n",
       "      <td>802.0</td>\n",
       "      <td>825.75</td>\n",
       "      <td>790.00</td>\n",
       "      <td>59</td>\n",
       "      <td>2.7838</td>\n",
       "      <td>3400</td>\n",
       "    </tr>\n",
       "    <tr>\n",
       "      <th>2</th>\n",
       "      <td>2008-12-24 00:00:00</td>\n",
       "      <td>1STBSRS</td>\n",
       "      <td>789.00</td>\n",
       "      <td>809.75</td>\n",
       "      <td>786.0</td>\n",
       "      <td>790.0</td>\n",
       "      <td>790.00</td>\n",
       "      <td>785.75</td>\n",
       "      <td>74</td>\n",
       "      <td>3.5270</td>\n",
       "      <td>4450</td>\n",
       "    </tr>\n",
       "    <tr>\n",
       "      <th>3</th>\n",
       "      <td>2008-12-23 00:00:00</td>\n",
       "      <td>1STBSRS</td>\n",
       "      <td>785.00</td>\n",
       "      <td>798.50</td>\n",
       "      <td>785.0</td>\n",
       "      <td>785.0</td>\n",
       "      <td>785.75</td>\n",
       "      <td>782.50</td>\n",
       "      <td>38</td>\n",
       "      <td>2.0541</td>\n",
       "      <td>2600</td>\n",
       "    </tr>\n",
       "    <tr>\n",
       "      <th>4</th>\n",
       "      <td>2008-12-22 00:00:00</td>\n",
       "      <td>1STBSRS</td>\n",
       "      <td>778.25</td>\n",
       "      <td>794.50</td>\n",
       "      <td>775.5</td>\n",
       "      <td>787.0</td>\n",
       "      <td>782.50</td>\n",
       "      <td>797.75</td>\n",
       "      <td>19</td>\n",
       "      <td>0.7825</td>\n",
       "      <td>1000</td>\n",
       "    </tr>\n",
       "  </tbody>\n",
       "</table>\n",
       "</div>"
      ],
      "text/plain": [
       "                  date trading_code  last_traded_price    high    low  \\\n",
       "0  2008-12-30 00:00:00      1STBSRS             823.00  840.00  819.0   \n",
       "1  2008-12-28 00:00:00      1STBSRS             817.00  829.00  802.0   \n",
       "2  2008-12-24 00:00:00      1STBSRS             789.00  809.75  786.0   \n",
       "3  2008-12-23 00:00:00      1STBSRS             785.00  798.50  785.0   \n",
       "4  2008-12-22 00:00:00      1STBSRS             778.25  794.50  775.5   \n",
       "\n",
       "   opening_price  closing_price  yesterdays_closing_price  trade  value_mn  \\\n",
       "0          825.0         826.25                    825.75     86    4.1475   \n",
       "1          802.0         825.75                    790.00     59    2.7838   \n",
       "2          790.0         790.00                    785.75     74    3.5270   \n",
       "3          785.0         785.75                    782.50     38    2.0541   \n",
       "4          787.0         782.50                    797.75     19    0.7825   \n",
       "\n",
       "   volume  \n",
       "0    5000  \n",
       "1    3400  \n",
       "2    4450  \n",
       "3    2600  \n",
       "4    1000  "
      ]
     },
     "execution_count": 6,
     "metadata": {},
     "output_type": "execute_result"
    }
   ],
   "source": [
    "data.head()"
   ]
  },
  {
   "cell_type": "code",
   "execution_count": 7,
   "metadata": {},
   "outputs": [
    {
     "data": {
      "text/plain": [
       "date                        0\n",
       "trading_code                0\n",
       "last_traded_price           0\n",
       "high                        0\n",
       "low                         0\n",
       "opening_price               0\n",
       "closing_price               0\n",
       "yesterdays_closing_price    0\n",
       "trade                       0\n",
       "value_mn                    0\n",
       "volume                      0\n",
       "dtype: int64"
      ]
     },
     "execution_count": 7,
     "metadata": {},
     "output_type": "execute_result"
    }
   ],
   "source": [
    "data.isna().sum()"
   ]
  },
  {
   "cell_type": "code",
   "execution_count": 8,
   "metadata": {},
   "outputs": [
    {
     "name": "stdout",
     "output_type": "stream",
     "text": [
      "<class 'str'>\n"
     ]
    }
   ],
   "source": [
    "print(type(data['date'][0]))"
   ]
  },
  {
   "cell_type": "code",
   "execution_count": 9,
   "metadata": {},
   "outputs": [
    {
     "data": {
      "text/plain": [
       "(1181482,)"
      ]
     },
     "execution_count": 9,
     "metadata": {},
     "output_type": "execute_result"
    }
   ],
   "source": [
    "data['date'].shape"
   ]
  },
  {
   "cell_type": "code",
   "execution_count": 10,
   "metadata": {},
   "outputs": [
    {
     "data": {
      "text/plain": [
       "0"
      ]
     },
     "execution_count": 10,
     "metadata": {},
     "output_type": "execute_result"
    }
   ],
   "source": [
    "data['date'].isna().sum()"
   ]
  },
  {
   "cell_type": "code",
   "execution_count": 11,
   "metadata": {},
   "outputs": [
    {
     "name": "stdout",
     "output_type": "stream",
     "text": [
      "<class 'pandas.core.frame.DataFrame'>\n",
      "RangeIndex: 1181482 entries, 0 to 1181481\n",
      "Data columns (total 11 columns):\n",
      "date                        1181482 non-null object\n",
      "trading_code                1181482 non-null object\n",
      "last_traded_price           1181482 non-null float64\n",
      "high                        1181482 non-null float64\n",
      "low                         1181482 non-null float64\n",
      "opening_price               1181482 non-null float64\n",
      "closing_price               1181482 non-null float64\n",
      "yesterdays_closing_price    1181482 non-null float64\n",
      "trade                       1181482 non-null int64\n",
      "value_mn                    1181482 non-null float64\n",
      "volume                      1181482 non-null int64\n",
      "dtypes: float64(7), int64(2), object(2)\n",
      "memory usage: 99.2+ MB\n"
     ]
    }
   ],
   "source": [
    "data.info()"
   ]
  },
  {
   "cell_type": "code",
   "execution_count": 12,
   "metadata": {},
   "outputs": [],
   "source": [
    "data = data[(data['last_traded_price']>0)]\n",
    "data = data[(data['high']>0)]\n",
    "data = data[(data['low']>0)]\n",
    "data = data[(data['opening_price']>0)]\n",
    "data = data[(data['closing_price']>0)]\n",
    "data = data[(data['yesterdays_closing_price']>0)]\n",
    "data = data[(data['trade']>0)]\n",
    "data = data[(data['value_mn']>0)]\n",
    "data = data[(data['volume']>0)]"
   ]
  },
  {
   "cell_type": "code",
   "execution_count": 13,
   "metadata": {},
   "outputs": [
    {
     "name": "stdout",
     "output_type": "stream",
     "text": [
      "<class 'pandas.core.frame.DataFrame'>\n",
      "Int64Index: 657455 entries, 0 to 1181481\n",
      "Data columns (total 11 columns):\n",
      "date                        657455 non-null object\n",
      "trading_code                657455 non-null object\n",
      "last_traded_price           657455 non-null float64\n",
      "high                        657455 non-null float64\n",
      "low                         657455 non-null float64\n",
      "opening_price               657455 non-null float64\n",
      "closing_price               657455 non-null float64\n",
      "yesterdays_closing_price    657455 non-null float64\n",
      "trade                       657455 non-null int64\n",
      "value_mn                    657455 non-null float64\n",
      "volume                      657455 non-null int64\n",
      "dtypes: float64(7), int64(2), object(2)\n",
      "memory usage: 60.2+ MB\n"
     ]
    }
   ],
   "source": [
    "data.info()"
   ]
  },
  {
   "cell_type": "code",
   "execution_count": 14,
   "metadata": {},
   "outputs": [],
   "source": [
    "data['date'] = pd.to_datetime(data['date'], format='%Y-%m-%d')"
   ]
  },
  {
   "cell_type": "code",
   "execution_count": 15,
   "metadata": {},
   "outputs": [
    {
     "data": {
      "text/plain": [
       "[<matplotlib.lines.Line2D at 0x16927348e10>]"
      ]
     },
     "execution_count": 15,
     "metadata": {},
     "output_type": "execute_result"
    },
    {
     "data": {
      "image/png": "[encoded data removed]",
      "text/plain": [
       "<Figure size 432x288 with 1 Axes>"
      ]
     },
     "metadata": {
      "needs_background": "light"
     },
     "output_type": "display_data"
    }
   ],
   "source": [
    "plt.plot(data['date'])"
   ]
  },
  {
   "cell_type": "code",
   "execution_count": 16,
   "metadata": {},
   "outputs": [
    {
     "data": {
      "text/plain": [
       "[<matplotlib.lines.Line2D at 0x1692ac29828>]"
      ]
     },
     "execution_count": 16,
     "metadata": {},
     "output_type": "execute_result"
    },
    {
     "data": {
      "image/png": "[encoded data removed]",
      "text/plain": [
       "<Figure size 432x288 with 1 Axes>"
      ]
     },
     "metadata": {
      "needs_background": "light"
     },
     "output_type": "display_data"
    }
   ],
   "source": [
    "plt.plot(data['high'])"
   ]
  },
  {
   "cell_type": "code",
   "execution_count": 17,
   "metadata": {},
   "outputs": [],
   "source": [
    "new_data = data"
   ]
  },
  {
   "cell_type": "code",
   "execution_count": 18,
   "metadata": {},
   "outputs": [],
   "source": [
    "new_data.reset_index(inplace=True)"
   ]
  },
  {
   "cell_type": "code",
   "execution_count": 19,
   "metadata": {},
   "outputs": [],
   "source": [
    "data.reset_index(level=0, inplace=True)"
   ]
  },
  {
   "cell_type": "code",
   "execution_count": 20,
   "metadata": {},
   "outputs": [],
   "source": [
    "data = data.drop(\"index\", axis=1)"
   ]
  },
  {
   "cell_type": "code",
   "execution_count": 21,
   "metadata": {},
   "outputs": [],
   "source": [
    "data.rename(columns={'level_0':'index'},inplace=True)"
   ]
  },
  {
   "cell_type": "code",
   "execution_count": 22,
   "metadata": {},
   "outputs": [],
   "source": [
    "data.set_index('index', inplace=True)"
   ]
  },
  {
   "cell_type": "code",
   "execution_count": 23,
   "metadata": {},
   "outputs": [
    {
     "data": {
      "text/html": [
       "<div>\n",
       "<style scoped>\n",
       "    .dataframe tbody tr th:only-of-type {\n",
       "        vertical-align: middle;\n",
       "    }\n",
       "\n",
       "    .dataframe tbody tr th {\n",
       "        vertical-align: top;\n",
       "    }\n",
       "\n",
       "    .dataframe thead th {\n",
       "        text-align: right;\n",
       "    }\n",
       "</style>\n",
       "<table border=\"1\" class=\"dataframe\">\n",
       "  <thead>\n",
       "    <tr style=\"text-align: right;\">\n",
       "      <th></th>\n",
       "      <th>date</th>\n",
       "      <th>trading_code</th>\n",
       "      <th>last_traded_price</th>\n",
       "      <th>high</th>\n",
       "      <th>low</th>\n",
       "      <th>opening_price</th>\n",
       "      <th>closing_price</th>\n",
       "      <th>yesterdays_closing_price</th>\n",
       "      <th>trade</th>\n",
       "      <th>value_mn</th>\n",
       "      <th>volume</th>\n",
       "    </tr>\n",
       "    <tr>\n",
       "      <th>index</th>\n",
       "      <th></th>\n",
       "      <th></th>\n",
       "      <th></th>\n",
       "      <th></th>\n",
       "      <th></th>\n",
       "      <th></th>\n",
       "      <th></th>\n",
       "      <th></th>\n",
       "      <th></th>\n",
       "      <th></th>\n",
       "      <th></th>\n",
       "    </tr>\n",
       "  </thead>\n",
       "  <tbody>\n",
       "    <tr>\n",
       "      <th>0</th>\n",
       "      <td>2008-12-30</td>\n",
       "      <td>1STBSRS</td>\n",
       "      <td>823.00</td>\n",
       "      <td>840.00</td>\n",
       "      <td>819.0</td>\n",
       "      <td>825.0</td>\n",
       "      <td>826.25</td>\n",
       "      <td>825.75</td>\n",
       "      <td>86</td>\n",
       "      <td>4.1475</td>\n",
       "      <td>5000</td>\n",
       "    </tr>\n",
       "    <tr>\n",
       "      <th>1</th>\n",
       "      <td>2008-12-28</td>\n",
       "      <td>1STBSRS</td>\n",
       "      <td>817.00</td>\n",
       "      <td>829.00</td>\n",
       "      <td>802.0</td>\n",
       "      <td>802.0</td>\n",
       "      <td>825.75</td>\n",
       "      <td>790.00</td>\n",
       "      <td>59</td>\n",
       "      <td>2.7838</td>\n",
       "      <td>3400</td>\n",
       "    </tr>\n",
       "    <tr>\n",
       "      <th>2</th>\n",
       "      <td>2008-12-24</td>\n",
       "      <td>1STBSRS</td>\n",
       "      <td>789.00</td>\n",
       "      <td>809.75</td>\n",
       "      <td>786.0</td>\n",
       "      <td>790.0</td>\n",
       "      <td>790.00</td>\n",
       "      <td>785.75</td>\n",
       "      <td>74</td>\n",
       "      <td>3.5270</td>\n",
       "      <td>4450</td>\n",
       "    </tr>\n",
       "    <tr>\n",
       "      <th>3</th>\n",
       "      <td>2008-12-23</td>\n",
       "      <td>1STBSRS</td>\n",
       "      <td>785.00</td>\n",
       "      <td>798.50</td>\n",
       "      <td>785.0</td>\n",
       "      <td>785.0</td>\n",
       "      <td>785.75</td>\n",
       "      <td>782.50</td>\n",
       "      <td>38</td>\n",
       "      <td>2.0541</td>\n",
       "      <td>2600</td>\n",
       "    </tr>\n",
       "    <tr>\n",
       "      <th>4</th>\n",
       "      <td>2008-12-22</td>\n",
       "      <td>1STBSRS</td>\n",
       "      <td>778.25</td>\n",
       "      <td>794.50</td>\n",
       "      <td>775.5</td>\n",
       "      <td>787.0</td>\n",
       "      <td>782.50</td>\n",
       "      <td>797.75</td>\n",
       "      <td>19</td>\n",
       "      <td>0.7825</td>\n",
       "      <td>1000</td>\n",
       "    </tr>\n",
       "  </tbody>\n",
       "</table>\n",
       "</div>"
      ],
      "text/plain": [
       "            date trading_code  last_traded_price    high    low  \\\n",
       "index                                                             \n",
       "0     2008-12-30      1STBSRS             823.00  840.00  819.0   \n",
       "1     2008-12-28      1STBSRS             817.00  829.00  802.0   \n",
       "2     2008-12-24      1STBSRS             789.00  809.75  786.0   \n",
       "3     2008-12-23      1STBSRS             785.00  798.50  785.0   \n",
       "4     2008-12-22      1STBSRS             778.25  794.50  775.5   \n",
       "\n",
       "       opening_price  closing_price  yesterdays_closing_price  trade  \\\n",
       "index                                                                  \n",
       "0              825.0         826.25                    825.75     86   \n",
       "1              802.0         825.75                    790.00     59   \n",
       "2              790.0         790.00                    785.75     74   \n",
       "3              785.0         785.75                    782.50     38   \n",
       "4              787.0         782.50                    797.75     19   \n",
       "\n",
       "       value_mn  volume  \n",
       "index                    \n",
       "0        4.1475    5000  \n",
       "1        2.7838    3400  \n",
       "2        3.5270    4450  \n",
       "3        2.0541    2600  \n",
       "4        0.7825    1000  "
      ]
     },
     "execution_count": 23,
     "metadata": {},
     "output_type": "execute_result"
    }
   ],
   "source": [
    "data.head()"
   ]
  },
  {
   "cell_type": "code",
   "execution_count": 24,
   "metadata": {},
   "outputs": [],
   "source": [
    "le = LabelEncoder()"
   ]
  },
  {
   "cell_type": "code",
   "execution_count": 25,
   "metadata": {},
   "outputs": [],
   "source": [
    "X = data.iloc[:,1]"
   ]
  },
  {
   "cell_type": "code",
   "execution_count": 26,
   "metadata": {},
   "outputs": [
    {
     "data": {
      "text/plain": [
       "432"
      ]
     },
     "execution_count": 26,
     "metadata": {},
     "output_type": "execute_result"
    }
   ],
   "source": [
    "X.nunique()"
   ]
  },
  {
   "cell_type": "code",
   "execution_count": 27,
   "metadata": {},
   "outputs": [],
   "source": [
    "X_2 = le.fit_transform(X)"
   ]
  },
  {
   "cell_type": "code",
   "execution_count": 28,
   "metadata": {},
   "outputs": [],
   "source": [
    "X_3 = pd.DataFrame({'trading_code':X_2})"
   ]
  },
  {
   "cell_type": "code",
   "execution_count": 29,
   "metadata": {},
   "outputs": [
    {
     "data": {
      "text/plain": [
       "(657455, 1)"
      ]
     },
     "execution_count": 29,
     "metadata": {},
     "output_type": "execute_result"
    }
   ],
   "source": [
    "X_3.shape"
   ]
  },
  {
   "cell_type": "code",
   "execution_count": 30,
   "metadata": {},
   "outputs": [],
   "source": [
    "data['trading_code'] = X_3.iloc[:,0]"
   ]
  },
  {
   "cell_type": "code",
   "execution_count": 31,
   "metadata": {},
   "outputs": [
    {
     "data": {
      "text/html": [
       "<div>\n",
       "<style scoped>\n",
       "    .dataframe tbody tr th:only-of-type {\n",
       "        vertical-align: middle;\n",
       "    }\n",
       "\n",
       "    .dataframe tbody tr th {\n",
       "        vertical-align: top;\n",
       "    }\n",
       "\n",
       "    .dataframe thead th {\n",
       "        text-align: right;\n",
       "    }\n",
       "</style>\n",
       "<table border=\"1\" class=\"dataframe\">\n",
       "  <thead>\n",
       "    <tr style=\"text-align: right;\">\n",
       "      <th></th>\n",
       "      <th>date</th>\n",
       "      <th>trading_code</th>\n",
       "      <th>last_traded_price</th>\n",
       "      <th>high</th>\n",
       "      <th>low</th>\n",
       "      <th>opening_price</th>\n",
       "      <th>closing_price</th>\n",
       "      <th>yesterdays_closing_price</th>\n",
       "      <th>trade</th>\n",
       "      <th>value_mn</th>\n",
       "      <th>volume</th>\n",
       "    </tr>\n",
       "    <tr>\n",
       "      <th>index</th>\n",
       "      <th></th>\n",
       "      <th></th>\n",
       "      <th></th>\n",
       "      <th></th>\n",
       "      <th></th>\n",
       "      <th></th>\n",
       "      <th></th>\n",
       "      <th></th>\n",
       "      <th></th>\n",
       "      <th></th>\n",
       "      <th></th>\n",
       "    </tr>\n",
       "  </thead>\n",
       "  <tbody>\n",
       "    <tr>\n",
       "      <th>0</th>\n",
       "      <td>2008-12-30</td>\n",
       "      <td>1</td>\n",
       "      <td>823.00</td>\n",
       "      <td>840.00</td>\n",
       "      <td>819.0</td>\n",
       "      <td>825.0</td>\n",
       "      <td>826.25</td>\n",
       "      <td>825.75</td>\n",
       "      <td>86</td>\n",
       "      <td>4.1475</td>\n",
       "      <td>5000</td>\n",
       "    </tr>\n",
       "    <tr>\n",
       "      <th>1</th>\n",
       "      <td>2008-12-28</td>\n",
       "      <td>1</td>\n",
       "      <td>817.00</td>\n",
       "      <td>829.00</td>\n",
       "      <td>802.0</td>\n",
       "      <td>802.0</td>\n",
       "      <td>825.75</td>\n",
       "      <td>790.00</td>\n",
       "      <td>59</td>\n",
       "      <td>2.7838</td>\n",
       "      <td>3400</td>\n",
       "    </tr>\n",
       "    <tr>\n",
       "      <th>2</th>\n",
       "      <td>2008-12-24</td>\n",
       "      <td>1</td>\n",
       "      <td>789.00</td>\n",
       "      <td>809.75</td>\n",
       "      <td>786.0</td>\n",
       "      <td>790.0</td>\n",
       "      <td>790.00</td>\n",
       "      <td>785.75</td>\n",
       "      <td>74</td>\n",
       "      <td>3.5270</td>\n",
       "      <td>4450</td>\n",
       "    </tr>\n",
       "    <tr>\n",
       "      <th>3</th>\n",
       "      <td>2008-12-23</td>\n",
       "      <td>1</td>\n",
       "      <td>785.00</td>\n",
       "      <td>798.50</td>\n",
       "      <td>785.0</td>\n",
       "      <td>785.0</td>\n",
       "      <td>785.75</td>\n",
       "      <td>782.50</td>\n",
       "      <td>38</td>\n",
       "      <td>2.0541</td>\n",
       "      <td>2600</td>\n",
       "    </tr>\n",
       "    <tr>\n",
       "      <th>4</th>\n",
       "      <td>2008-12-22</td>\n",
       "      <td>1</td>\n",
       "      <td>778.25</td>\n",
       "      <td>794.50</td>\n",
       "      <td>775.5</td>\n",
       "      <td>787.0</td>\n",
       "      <td>782.50</td>\n",
       "      <td>797.75</td>\n",
       "      <td>19</td>\n",
       "      <td>0.7825</td>\n",
       "      <td>1000</td>\n",
       "    </tr>\n",
       "  </tbody>\n",
       "</table>\n",
       "</div>"
      ],
      "text/plain": [
       "            date  trading_code  last_traded_price    high    low  \\\n",
       "index                                                              \n",
       "0     2008-12-30             1             823.00  840.00  819.0   \n",
       "1     2008-12-28             1             817.00  829.00  802.0   \n",
       "2     2008-12-24             1             789.00  809.75  786.0   \n",
       "3     2008-12-23             1             785.00  798.50  785.0   \n",
       "4     2008-12-22             1             778.25  794.50  775.5   \n",
       "\n",
       "       opening_price  closing_price  yesterdays_closing_price  trade  \\\n",
       "index                                                                  \n",
       "0              825.0         826.25                    825.75     86   \n",
       "1              802.0         825.75                    790.00     59   \n",
       "2              790.0         790.00                    785.75     74   \n",
       "3              785.0         785.75                    782.50     38   \n",
       "4              787.0         782.50                    797.75     19   \n",
       "\n",
       "       value_mn  volume  \n",
       "index                    \n",
       "0        4.1475    5000  \n",
       "1        2.7838    3400  \n",
       "2        3.5270    4450  \n",
       "3        2.0541    2600  \n",
       "4        0.7825    1000  "
      ]
     },
     "execution_count": 31,
     "metadata": {},
     "output_type": "execute_result"
    }
   ],
   "source": [
    "data.head()"
   ]
  },
  {
   "cell_type": "code",
   "execution_count": 32,
   "metadata": {},
   "outputs": [
    {
     "data": {
      "text/html": [
       "<div>\n",
       "<style scoped>\n",
       "    .dataframe tbody tr th:only-of-type {\n",
       "        vertical-align: middle;\n",
       "    }\n",
       "\n",
       "    .dataframe tbody tr th {\n",
       "        vertical-align: top;\n",
       "    }\n",
       "\n",
       "    .dataframe thead th {\n",
       "        text-align: right;\n",
       "    }\n",
       "</style>\n",
       "<table border=\"1\" class=\"dataframe\">\n",
       "  <thead>\n",
       "    <tr style=\"text-align: right;\">\n",
       "      <th></th>\n",
       "      <th>date</th>\n",
       "      <th>trading_code</th>\n",
       "      <th>last_traded_price</th>\n",
       "      <th>high</th>\n",
       "      <th>low</th>\n",
       "      <th>opening_price</th>\n",
       "      <th>closing_price</th>\n",
       "      <th>yesterdays_closing_price</th>\n",
       "      <th>trade</th>\n",
       "      <th>value_mn</th>\n",
       "      <th>volume</th>\n",
       "    </tr>\n",
       "    <tr>\n",
       "      <th>index</th>\n",
       "      <th></th>\n",
       "      <th></th>\n",
       "      <th></th>\n",
       "      <th></th>\n",
       "      <th></th>\n",
       "      <th></th>\n",
       "      <th></th>\n",
       "      <th></th>\n",
       "      <th></th>\n",
       "      <th></th>\n",
       "      <th></th>\n",
       "    </tr>\n",
       "  </thead>\n",
       "  <tbody>\n",
       "    <tr>\n",
       "      <th>657450</th>\n",
       "      <td>2017-01-05</td>\n",
       "      <td>431</td>\n",
       "      <td>36.6</td>\n",
       "      <td>37.2</td>\n",
       "      <td>34.9</td>\n",
       "      <td>34.9</td>\n",
       "      <td>36.3</td>\n",
       "      <td>36.0</td>\n",
       "      <td>128</td>\n",
       "      <td>0.857</td>\n",
       "      <td>23581</td>\n",
       "    </tr>\n",
       "    <tr>\n",
       "      <th>657451</th>\n",
       "      <td>2017-01-04</td>\n",
       "      <td>431</td>\n",
       "      <td>36.0</td>\n",
       "      <td>40.5</td>\n",
       "      <td>36.0</td>\n",
       "      <td>40.5</td>\n",
       "      <td>36.0</td>\n",
       "      <td>39.9</td>\n",
       "      <td>90</td>\n",
       "      <td>0.928</td>\n",
       "      <td>25097</td>\n",
       "    </tr>\n",
       "    <tr>\n",
       "      <th>657452</th>\n",
       "      <td>2017-01-03</td>\n",
       "      <td>431</td>\n",
       "      <td>40.7</td>\n",
       "      <td>40.7</td>\n",
       "      <td>37.7</td>\n",
       "      <td>39.0</td>\n",
       "      <td>39.9</td>\n",
       "      <td>37.0</td>\n",
       "      <td>107</td>\n",
       "      <td>1.279</td>\n",
       "      <td>32230</td>\n",
       "    </tr>\n",
       "    <tr>\n",
       "      <th>657453</th>\n",
       "      <td>2017-01-02</td>\n",
       "      <td>431</td>\n",
       "      <td>37.0</td>\n",
       "      <td>42.8</td>\n",
       "      <td>37.0</td>\n",
       "      <td>41.0</td>\n",
       "      <td>37.0</td>\n",
       "      <td>41.1</td>\n",
       "      <td>145</td>\n",
       "      <td>1.203</td>\n",
       "      <td>31671</td>\n",
       "    </tr>\n",
       "    <tr>\n",
       "      <th>657454</th>\n",
       "      <td>2017-01-01</td>\n",
       "      <td>431</td>\n",
       "      <td>40.2</td>\n",
       "      <td>46.1</td>\n",
       "      <td>40.2</td>\n",
       "      <td>46.1</td>\n",
       "      <td>41.1</td>\n",
       "      <td>44.6</td>\n",
       "      <td>165</td>\n",
       "      <td>2.504</td>\n",
       "      <td>57926</td>\n",
       "    </tr>\n",
       "  </tbody>\n",
       "</table>\n",
       "</div>"
      ],
      "text/plain": [
       "             date  trading_code  last_traded_price  high   low  opening_price  \\\n",
       "index                                                                           \n",
       "657450 2017-01-05           431               36.6  37.2  34.9           34.9   \n",
       "657451 2017-01-04           431               36.0  40.5  36.0           40.5   \n",
       "657452 2017-01-03           431               40.7  40.7  37.7           39.0   \n",
       "657453 2017-01-02           431               37.0  42.8  37.0           41.0   \n",
       "657454 2017-01-01           431               40.2  46.1  40.2           46.1   \n",
       "\n",
       "        closing_price  yesterdays_closing_price  trade  value_mn  volume  \n",
       "index                                                                     \n",
       "657450           36.3                      36.0    128     0.857   23581  \n",
       "657451           36.0                      39.9     90     0.928   25097  \n",
       "657452           39.9                      37.0    107     1.279   32230  \n",
       "657453           37.0                      41.1    145     1.203   31671  \n",
       "657454           41.1                      44.6    165     2.504   57926  "
      ]
     },
     "execution_count": 32,
     "metadata": {},
     "output_type": "execute_result"
    }
   ],
   "source": [
    "data.tail()"
   ]
  },
  {
   "cell_type": "code",
   "execution_count": 33,
   "metadata": {},
   "outputs": [],
   "source": [
    "enc = OneHotEncoder()"
   ]
  },
  {
   "cell_type": "code",
   "execution_count": 34,
   "metadata": {},
   "outputs": [],
   "source": [
    "x_4 = data['trading_code']"
   ]
  },
  {
   "cell_type": "code",
   "execution_count": 35,
   "metadata": {},
   "outputs": [],
   "source": [
    "dfDummies = pd.get_dummies(x_4, prefix = 'trading_code')"
   ]
  },
  {
   "cell_type": "code",
   "execution_count": 36,
   "metadata": {},
   "outputs": [
    {
     "data": {
      "text/html": [
       "<div>\n",
       "<style scoped>\n",
       "    .dataframe tbody tr th:only-of-type {\n",
       "        vertical-align: middle;\n",
       "    }\n",
       "\n",
       "    .dataframe tbody tr th {\n",
       "        vertical-align: top;\n",
       "    }\n",
       "\n",
       "    .dataframe thead th {\n",
       "        text-align: right;\n",
       "    }\n",
       "</style>\n",
       "<table border=\"1\" class=\"dataframe\">\n",
       "  <thead>\n",
       "    <tr style=\"text-align: right;\">\n",
       "      <th></th>\n",
       "      <th>trading_code_0</th>\n",
       "      <th>trading_code_1</th>\n",
       "      <th>trading_code_2</th>\n",
       "      <th>trading_code_3</th>\n",
       "      <th>trading_code_4</th>\n",
       "      <th>trading_code_5</th>\n",
       "      <th>trading_code_6</th>\n",
       "      <th>trading_code_7</th>\n",
       "      <th>trading_code_8</th>\n",
       "      <th>trading_code_9</th>\n",
       "      <th>...</th>\n",
       "      <th>trading_code_422</th>\n",
       "      <th>trading_code_423</th>\n",
       "      <th>trading_code_424</th>\n",
       "      <th>trading_code_425</th>\n",
       "      <th>trading_code_426</th>\n",
       "      <th>trading_code_427</th>\n",
       "      <th>trading_code_428</th>\n",
       "      <th>trading_code_429</th>\n",
       "      <th>trading_code_430</th>\n",
       "      <th>trading_code_431</th>\n",
       "    </tr>\n",
       "    <tr>\n",
       "      <th>index</th>\n",
       "      <th></th>\n",
       "      <th></th>\n",
       "      <th></th>\n",
       "      <th></th>\n",
       "      <th></th>\n",
       "      <th></th>\n",
       "      <th></th>\n",
       "      <th></th>\n",
       "      <th></th>\n",
       "      <th></th>\n",
       "      <th></th>\n",
       "      <th></th>\n",
       "      <th></th>\n",
       "      <th></th>\n",
       "      <th></th>\n",
       "      <th></th>\n",
       "      <th></th>\n",
       "      <th></th>\n",
       "      <th></th>\n",
       "      <th></th>\n",
       "      <th></th>\n",
       "    </tr>\n",
       "  </thead>\n",
       "  <tbody>\n",
       "    <tr>\n",
       "      <th>0</th>\n",
       "      <td>0</td>\n",
       "      <td>1</td>\n",
       "      <td>0</td>\n",
       "      <td>0</td>\n",
       "      <td>0</td>\n",
       "      <td>0</td>\n",
       "      <td>0</td>\n",
       "      <td>0</td>\n",
       "      <td>0</td>\n",
       "      <td>0</td>\n",
       "      <td>...</td>\n",
       "      <td>0</td>\n",
       "      <td>0</td>\n",
       "      <td>0</td>\n",
       "      <td>0</td>\n",
       "      <td>0</td>\n",
       "      <td>0</td>\n",
       "      <td>0</td>\n",
       "      <td>0</td>\n",
       "      <td>0</td>\n",
       "      <td>0</td>\n",
       "    </tr>\n",
       "    <tr>\n",
       "      <th>1</th>\n",
       "      <td>0</td>\n",
       "      <td>1</td>\n",
       "      <td>0</td>\n",
       "      <td>0</td>\n",
       "      <td>0</td>\n",
       "      <td>0</td>\n",
       "      <td>0</td>\n",
       "      <td>0</td>\n",
       "      <td>0</td>\n",
       "      <td>0</td>\n",
       "      <td>...</td>\n",
       "      <td>0</td>\n",
       "      <td>0</td>\n",
       "      <td>0</td>\n",
       "      <td>0</td>\n",
       "      <td>0</td>\n",
       "      <td>0</td>\n",
       "      <td>0</td>\n",
       "      <td>0</td>\n",
       "      <td>0</td>\n",
       "      <td>0</td>\n",
       "    </tr>\n",
       "    <tr>\n",
       "      <th>2</th>\n",
       "      <td>0</td>\n",
       "      <td>1</td>\n",
       "      <td>0</td>\n",
       "      <td>0</td>\n",
       "      <td>0</td>\n",
       "      <td>0</td>\n",
       "      <td>0</td>\n",
       "      <td>0</td>\n",
       "      <td>0</td>\n",
       "      <td>0</td>\n",
       "      <td>...</td>\n",
       "      <td>0</td>\n",
       "      <td>0</td>\n",
       "      <td>0</td>\n",
       "      <td>0</td>\n",
       "      <td>0</td>\n",
       "      <td>0</td>\n",
       "      <td>0</td>\n",
       "      <td>0</td>\n",
       "      <td>0</td>\n",
       "      <td>0</td>\n",
       "    </tr>\n",
       "    <tr>\n",
       "      <th>3</th>\n",
       "      <td>0</td>\n",
       "      <td>1</td>\n",
       "      <td>0</td>\n",
       "      <td>0</td>\n",
       "      <td>0</td>\n",
       "      <td>0</td>\n",
       "      <td>0</td>\n",
       "      <td>0</td>\n",
       "      <td>0</td>\n",
       "      <td>0</td>\n",
       "      <td>...</td>\n",
       "      <td>0</td>\n",
       "      <td>0</td>\n",
       "      <td>0</td>\n",
       "      <td>0</td>\n",
       "      <td>0</td>\n",
       "      <td>0</td>\n",
       "      <td>0</td>\n",
       "      <td>0</td>\n",
       "      <td>0</td>\n",
       "      <td>0</td>\n",
       "    </tr>\n",
       "    <tr>\n",
       "      <th>4</th>\n",
       "      <td>0</td>\n",
       "      <td>1</td>\n",
       "      <td>0</td>\n",
       "      <td>0</td>\n",
       "      <td>0</td>\n",
       "      <td>0</td>\n",
       "      <td>0</td>\n",
       "      <td>0</td>\n",
       "      <td>0</td>\n",
       "      <td>0</td>\n",
       "      <td>...</td>\n",
       "      <td>0</td>\n",
       "      <td>0</td>\n",
       "      <td>0</td>\n",
       "      <td>0</td>\n",
       "      <td>0</td>\n",
       "      <td>0</td>\n",
       "      <td>0</td>\n",
       "      <td>0</td>\n",
       "      <td>0</td>\n",
       "      <td>0</td>\n",
       "    </tr>\n",
       "  </tbody>\n",
       "</table>\n",
       "<p>5 rows × 432 columns</p>\n",
       "</div>"
      ],
      "text/plain": [
       "       trading_code_0  trading_code_1  trading_code_2  trading_code_3  \\\n",
       "index                                                                   \n",
       "0                   0               1               0               0   \n",
       "1                   0               1               0               0   \n",
       "2                   0               1               0               0   \n",
       "3                   0               1               0               0   \n",
       "4                   0               1               0               0   \n",
       "\n",
       "       trading_code_4  trading_code_5  trading_code_6  trading_code_7  \\\n",
       "index                                                                   \n",
       "0                   0               0               0               0   \n",
       "1                   0               0               0               0   \n",
       "2                   0               0               0               0   \n",
       "3                   0               0               0               0   \n",
       "4                   0               0               0               0   \n",
       "\n",
       "       trading_code_8  trading_code_9        ...         trading_code_422  \\\n",
       "index                                        ...                            \n",
       "0                   0               0        ...                        0   \n",
       "1                   0               0        ...                        0   \n",
       "2                   0               0        ...                        0   \n",
       "3                   0               0        ...                        0   \n",
       "4                   0               0        ...                        0   \n",
       "\n",
       "       trading_code_423  trading_code_424  trading_code_425  trading_code_426  \\\n",
       "index                                                                           \n",
       "0                     0                 0                 0                 0   \n",
       "1                     0                 0                 0                 0   \n",
       "2                     0                 0                 0                 0   \n",
       "3                     0                 0                 0                 0   \n",
       "4                     0                 0                 0                 0   \n",
       "\n",
       "       trading_code_427  trading_code_428  trading_code_429  trading_code_430  \\\n",
       "index                                                                           \n",
       "0                     0                 0                 0                 0   \n",
       "1                     0                 0                 0                 0   \n",
       "2                     0                 0                 0                 0   \n",
       "3                     0                 0                 0                 0   \n",
       "4                     0                 0                 0                 0   \n",
       "\n",
       "       trading_code_431  \n",
       "index                    \n",
       "0                     0  \n",
       "1                     0  \n",
       "2                     0  \n",
       "3                     0  \n",
       "4                     0  \n",
       "\n",
       "[5 rows x 432 columns]"
      ]
     },
     "execution_count": 36,
     "metadata": {},
     "output_type": "execute_result"
    }
   ],
   "source": [
    "dfDummies.head()"
   ]
  },
  {
   "cell_type": "code",
   "execution_count": 37,
   "metadata": {},
   "outputs": [
    {
     "name": "stdout",
     "output_type": "stream",
     "text": [
      "<class 'pandas.core.frame.DataFrame'>\n",
      "Int64Index: 657455 entries, 0 to 657454\n",
      "Data columns (total 11 columns):\n",
      "date                        657455 non-null datetime64[ns]\n",
      "trading_code                657455 non-null int32\n",
      "last_traded_price           657455 non-null float64\n",
      "high                        657455 non-null float64\n",
      "low                         657455 non-null float64\n",
      "opening_price               657455 non-null float64\n",
      "closing_price               657455 non-null float64\n",
      "yesterdays_closing_price    657455 non-null float64\n",
      "trade                       657455 non-null int64\n",
      "value_mn                    657455 non-null float64\n",
      "volume                      657455 non-null int64\n",
      "dtypes: datetime64[ns](1), float64(7), int32(1), int64(2)\n",
      "memory usage: 57.7 MB\n"
     ]
    }
   ],
   "source": [
    "data.info()"
   ]
  },
  {
   "cell_type": "code",
   "execution_count": 38,
   "metadata": {},
   "outputs": [],
   "source": [
    "data.sort_values('date', inplace=True)\n",
    "data.set_index('date', inplace=True)"
   ]
  },
  {
   "cell_type": "code",
   "execution_count": 39,
   "metadata": {},
   "outputs": [],
   "source": [
    "x = data[['last_traded_price', 'high', 'low','opening_price','closing_price','yesterdays_closing_price', 'trade', 'value_mn','volume']]"
   ]
  },
  {
   "cell_type": "code",
   "execution_count": 40,
   "metadata": {},
   "outputs": [
    {
     "data": {
      "text/html": [
       "<div>\n",
       "<style scoped>\n",
       "    .dataframe tbody tr th:only-of-type {\n",
       "        vertical-align: middle;\n",
       "    }\n",
       "\n",
       "    .dataframe tbody tr th {\n",
       "        vertical-align: top;\n",
       "    }\n",
       "\n",
       "    .dataframe thead th {\n",
       "        text-align: right;\n",
       "    }\n",
       "</style>\n",
       "<table border=\"1\" class=\"dataframe\">\n",
       "  <thead>\n",
       "    <tr style=\"text-align: right;\">\n",
       "      <th></th>\n",
       "      <th>last_traded_price</th>\n",
       "      <th>high</th>\n",
       "      <th>low</th>\n",
       "      <th>opening_price</th>\n",
       "      <th>closing_price</th>\n",
       "      <th>yesterdays_closing_price</th>\n",
       "      <th>trade</th>\n",
       "      <th>value_mn</th>\n",
       "      <th>volume</th>\n",
       "    </tr>\n",
       "    <tr>\n",
       "      <th>date</th>\n",
       "      <th></th>\n",
       "      <th></th>\n",
       "      <th></th>\n",
       "      <th></th>\n",
       "      <th></th>\n",
       "      <th></th>\n",
       "      <th></th>\n",
       "      <th></th>\n",
       "      <th></th>\n",
       "    </tr>\n",
       "  </thead>\n",
       "  <tbody>\n",
       "    <tr>\n",
       "      <th>2008-03-06</th>\n",
       "      <td>31.7</td>\n",
       "      <td>31.7</td>\n",
       "      <td>30.0</td>\n",
       "      <td>30.00</td>\n",
       "      <td>31.4</td>\n",
       "      <td>29.70</td>\n",
       "      <td>430</td>\n",
       "      <td>11.9753</td>\n",
       "      <td>384500</td>\n",
       "    </tr>\n",
       "    <tr>\n",
       "      <th>2008-03-06</th>\n",
       "      <td>464.0</td>\n",
       "      <td>465.0</td>\n",
       "      <td>447.5</td>\n",
       "      <td>450.75</td>\n",
       "      <td>463.0</td>\n",
       "      <td>449.50</td>\n",
       "      <td>1212</td>\n",
       "      <td>68.0060</td>\n",
       "      <td>148900</td>\n",
       "    </tr>\n",
       "    <tr>\n",
       "      <th>2008-03-06</th>\n",
       "      <td>17.1</td>\n",
       "      <td>17.6</td>\n",
       "      <td>17.0</td>\n",
       "      <td>17.00</td>\n",
       "      <td>17.3</td>\n",
       "      <td>16.90</td>\n",
       "      <td>58</td>\n",
       "      <td>0.7508</td>\n",
       "      <td>43000</td>\n",
       "    </tr>\n",
       "    <tr>\n",
       "      <th>2008-03-06</th>\n",
       "      <td>111.3</td>\n",
       "      <td>115.0</td>\n",
       "      <td>110.0</td>\n",
       "      <td>111.00</td>\n",
       "      <td>112.2</td>\n",
       "      <td>111.80</td>\n",
       "      <td>345</td>\n",
       "      <td>5.1661</td>\n",
       "      <td>45950</td>\n",
       "    </tr>\n",
       "    <tr>\n",
       "      <th>2008-03-06</th>\n",
       "      <td>4700.0</td>\n",
       "      <td>4700.0</td>\n",
       "      <td>4575.0</td>\n",
       "      <td>4650.00</td>\n",
       "      <td>4656.5</td>\n",
       "      <td>4695.75</td>\n",
       "      <td>794</td>\n",
       "      <td>49.5208</td>\n",
       "      <td>10690</td>\n",
       "    </tr>\n",
       "  </tbody>\n",
       "</table>\n",
       "</div>"
      ],
      "text/plain": [
       "            last_traded_price    high     low  opening_price  closing_price  \\\n",
       "date                                                                          \n",
       "2008-03-06               31.7    31.7    30.0          30.00           31.4   \n",
       "2008-03-06              464.0   465.0   447.5         450.75          463.0   \n",
       "2008-03-06               17.1    17.6    17.0          17.00           17.3   \n",
       "2008-03-06              111.3   115.0   110.0         111.00          112.2   \n",
       "2008-03-06             4700.0  4700.0  4575.0        4650.00         4656.5   \n",
       "\n",
       "            yesterdays_closing_price  trade  value_mn  volume  \n",
       "date                                                           \n",
       "2008-03-06                     29.70    430   11.9753  384500  \n",
       "2008-03-06                    449.50   1212   68.0060  148900  \n",
       "2008-03-06                     16.90     58    0.7508   43000  \n",
       "2008-03-06                    111.80    345    5.1661   45950  \n",
       "2008-03-06                   4695.75    794   49.5208   10690  "
      ]
     },
     "execution_count": 40,
     "metadata": {},
     "output_type": "execute_result"
    }
   ],
   "source": [
    "x.head()"
   ]
  },
  {
   "cell_type": "code",
   "execution_count": 41,
   "metadata": {},
   "outputs": [],
   "source": [
    "y = data[['closing_price']]"
   ]
  },
  {
   "cell_type": "code",
   "execution_count": 42,
   "metadata": {},
   "outputs": [
    {
     "data": {
      "text/html": [
       "<div>\n",
       "<style scoped>\n",
       "    .dataframe tbody tr th:only-of-type {\n",
       "        vertical-align: middle;\n",
       "    }\n",
       "\n",
       "    .dataframe tbody tr th {\n",
       "        vertical-align: top;\n",
       "    }\n",
       "\n",
       "    .dataframe thead th {\n",
       "        text-align: right;\n",
       "    }\n",
       "</style>\n",
       "<table border=\"1\" class=\"dataframe\">\n",
       "  <thead>\n",
       "    <tr style=\"text-align: right;\">\n",
       "      <th></th>\n",
       "      <th>trading_code</th>\n",
       "      <th>last_traded_price</th>\n",
       "      <th>high</th>\n",
       "      <th>low</th>\n",
       "      <th>opening_price</th>\n",
       "      <th>closing_price</th>\n",
       "      <th>yesterdays_closing_price</th>\n",
       "      <th>trade</th>\n",
       "      <th>value_mn</th>\n",
       "      <th>volume</th>\n",
       "    </tr>\n",
       "    <tr>\n",
       "      <th>date</th>\n",
       "      <th></th>\n",
       "      <th></th>\n",
       "      <th></th>\n",
       "      <th></th>\n",
       "      <th></th>\n",
       "      <th></th>\n",
       "      <th></th>\n",
       "      <th></th>\n",
       "      <th></th>\n",
       "      <th></th>\n",
       "    </tr>\n",
       "  </thead>\n",
       "  <tbody>\n",
       "    <tr>\n",
       "      <th>2008-03-06</th>\n",
       "      <td>275.0</td>\n",
       "      <td>464.0</td>\n",
       "      <td>465.0</td>\n",
       "      <td>447.5</td>\n",
       "      <td>450.75</td>\n",
       "      <td>463.0</td>\n",
       "      <td>449.50</td>\n",
       "      <td>1212.0</td>\n",
       "      <td>68.0060</td>\n",
       "      <td>148900.0</td>\n",
       "    </tr>\n",
       "    <tr>\n",
       "      <th>2008-03-06</th>\n",
       "      <td>76.0</td>\n",
       "      <td>17.1</td>\n",
       "      <td>17.6</td>\n",
       "      <td>17.0</td>\n",
       "      <td>17.00</td>\n",
       "      <td>17.3</td>\n",
       "      <td>16.90</td>\n",
       "      <td>58.0</td>\n",
       "      <td>0.7508</td>\n",
       "      <td>43000.0</td>\n",
       "    </tr>\n",
       "    <tr>\n",
       "      <th>2008-03-06</th>\n",
       "      <td>173.0</td>\n",
       "      <td>111.3</td>\n",
       "      <td>115.0</td>\n",
       "      <td>110.0</td>\n",
       "      <td>111.00</td>\n",
       "      <td>112.2</td>\n",
       "      <td>111.80</td>\n",
       "      <td>345.0</td>\n",
       "      <td>5.1661</td>\n",
       "      <td>45950.0</td>\n",
       "    </tr>\n",
       "    <tr>\n",
       "      <th>2008-03-06</th>\n",
       "      <td>412.0</td>\n",
       "      <td>4700.0</td>\n",
       "      <td>4700.0</td>\n",
       "      <td>4575.0</td>\n",
       "      <td>4650.00</td>\n",
       "      <td>4656.5</td>\n",
       "      <td>4695.75</td>\n",
       "      <td>794.0</td>\n",
       "      <td>49.5208</td>\n",
       "      <td>10690.0</td>\n",
       "    </tr>\n",
       "    <tr>\n",
       "      <th>2008-03-06</th>\n",
       "      <td>160.0</td>\n",
       "      <td>14.0</td>\n",
       "      <td>14.3</td>\n",
       "      <td>13.3</td>\n",
       "      <td>13.30</td>\n",
       "      <td>13.8</td>\n",
       "      <td>13.20</td>\n",
       "      <td>280.0</td>\n",
       "      <td>3.8612</td>\n",
       "      <td>278500.0</td>\n",
       "    </tr>\n",
       "  </tbody>\n",
       "</table>\n",
       "</div>"
      ],
      "text/plain": [
       "            trading_code  last_traded_price    high     low  opening_price  \\\n",
       "date                                                                         \n",
       "2008-03-06         275.0              464.0   465.0   447.5         450.75   \n",
       "2008-03-06          76.0               17.1    17.6    17.0          17.00   \n",
       "2008-03-06         173.0              111.3   115.0   110.0         111.00   \n",
       "2008-03-06         412.0             4700.0  4700.0  4575.0        4650.00   \n",
       "2008-03-06         160.0               14.0    14.3    13.3          13.30   \n",
       "\n",
       "            closing_price  yesterdays_closing_price   trade  value_mn  \\\n",
       "date                                                                    \n",
       "2008-03-06          463.0                    449.50  1212.0   68.0060   \n",
       "2008-03-06           17.3                     16.90    58.0    0.7508   \n",
       "2008-03-06          112.2                    111.80   345.0    5.1661   \n",
       "2008-03-06         4656.5                   4695.75   794.0   49.5208   \n",
       "2008-03-06           13.8                     13.20   280.0    3.8612   \n",
       "\n",
       "              volume  \n",
       "date                  \n",
       "2008-03-06  148900.0  \n",
       "2008-03-06   43000.0  \n",
       "2008-03-06   45950.0  \n",
       "2008-03-06   10690.0  \n",
       "2008-03-06  278500.0  "
      ]
     },
     "execution_count": 42,
     "metadata": {},
     "output_type": "execute_result"
    }
   ],
   "source": [
    "shift_steps = 1\n",
    "df_shifted = data.shift(-shift_steps)\n",
    "df_shifted.head()"
   ]
  },
  {
   "cell_type": "code",
   "execution_count": 43,
   "metadata": {},
   "outputs": [],
   "source": [
    "data_train = data.values[0:-shift_steps]\n",
    "data_target = y.values[0:-shift_steps]"
   ]
  },
  {
   "cell_type": "code",
   "execution_count": 44,
   "metadata": {},
   "outputs": [
    {
     "name": "stdout",
     "output_type": "stream",
     "text": [
      "<class 'numpy.ndarray'>\n",
      "<class 'numpy.ndarray'>\n"
     ]
    }
   ],
   "source": [
    "print(type(data_target))\n",
    "print(type(data_train))"
   ]
  },
  {
   "cell_type": "code",
   "execution_count": 45,
   "metadata": {},
   "outputs": [
    {
     "data": {
      "text/plain": [
       "((657454, 10), (657454, 1))"
      ]
     },
     "execution_count": 45,
     "metadata": {},
     "output_type": "execute_result"
    }
   ],
   "source": [
    "data_train.shape, data_target.shape"
   ]
  },
  {
   "cell_type": "code",
   "execution_count": 46,
   "metadata": {},
   "outputs": [],
   "source": [
    "num_data = len(data_train)"
   ]
  },
  {
   "cell_type": "code",
   "execution_count": 47,
   "metadata": {},
   "outputs": [],
   "source": [
    "train_split = 0.9\n",
    "num_train = int(train_split * num_data)\n",
    "num_test = num_data - num_train"
   ]
  },
  {
   "cell_type": "code",
   "execution_count": 48,
   "metadata": {},
   "outputs": [],
   "source": [
    "X_train_orig = data_train[0:num_train]\n",
    "X_test_orig = data_train[num_train:]\n",
    "\n",
    "y_train_orig = data_target[0:num_train]\n",
    "y_test_orig = data_target[num_train:]"
   ]
  },
  {
   "cell_type": "code",
   "execution_count": 49,
   "metadata": {},
   "outputs": [
    {
     "data": {
      "text/plain": [
       "((591708, 10), (591708, 1), (65746, 10), (65746, 1))"
      ]
     },
     "execution_count": 49,
     "metadata": {},
     "output_type": "execute_result"
    }
   ],
   "source": [
    "X_train_orig.shape, y_train_orig.shape, X_test_orig.shape, y_test_orig.shape"
   ]
  },
  {
   "cell_type": "code",
   "execution_count": 50,
   "metadata": {},
   "outputs": [],
   "source": [
    "x_scaler = MinMaxScaler(feature_range=(0, 1))\n",
    "X_train = x_scaler.fit_transform(X_train_orig)\n",
    "X_test = x_scaler.transform(X_test_orig)"
   ]
  },
  {
   "cell_type": "code",
   "execution_count": 51,
   "metadata": {},
   "outputs": [
    {
     "name": "stderr",
     "output_type": "stream",
     "text": [
      "C:\\ProgramData\\Anaconda3\\lib\\site-packages\\ipykernel_launcher.py:3: DataConversionWarning: A column-vector y was passed when a 1d array was expected. Please change the shape of y to (n_samples,), for example using ravel().\n",
      "  This is separate from the ipykernel package so we can avoid doing imports until\n"
     ]
    },
    {
     "data": {
      "text/plain": [
       "RandomForestRegressor(bootstrap=True, criterion='mse', max_depth=None,\n",
       "           max_features='auto', max_leaf_nodes=None,\n",
       "           min_impurity_decrease=0.0, min_impurity_split=None,\n",
       "           min_samples_leaf=1, min_samples_split=2,\n",
       "           min_weight_fraction_leaf=0.0, n_estimators=1000, n_jobs=None,\n",
       "           oob_score=False, random_state=42, verbose=0, warm_start=False)"
      ]
     },
     "execution_count": 51,
     "metadata": {},
     "output_type": "execute_result"
    }
   ],
   "source": [
    "rf = RandomForestRegressor(n_estimators = 1000, random_state = 42)\n",
    "# Train the model on training data\n",
    "rf.fit(X_train_orig, y_train_orig)"
   ]
  },
  {
   "cell_type": "code",
   "execution_count": 52,
   "metadata": {},
   "outputs": [
    {
     "ename": "SyntaxError",
     "evalue": "invalid syntax (<ipython-input-52-df55e90238c4>, line 6)",
     "output_type": "error",
     "traceback": [
      "\u001b[1;36m  File \u001b[1;32m\"<ipython-input-52-df55e90238c4>\"\u001b[1;36m, line \u001b[1;32m6\u001b[0m\n\u001b[1;33m    Mean Absolute Error: 3.83 degrees.\u001b[0m\n\u001b[1;37m                ^\u001b[0m\n\u001b[1;31mSyntaxError\u001b[0m\u001b[1;31m:\u001b[0m invalid syntax\n"
     ]
    }
   ],
   "source": [
    "predictions = rf.predict(X_test_orig)\n",
    "# Calculate the absolute errors\n",
    "errors = abs(predictions - y_test_orig)\n",
    "# Print out the mean absolute error (mae)\n",
    "print('Mean Absolute Error:', round(np.mean(errors), 2), 'degrees.')\n",
    "Mean Absolute Error: 3.83 degrees."
   ]
  },
  {
   "cell_type": "code",
   "execution_count": null,
   "metadata": {},
   "outputs": [],
   "source": []
  }
 ],
 "metadata": {
  "kernelspec": {
   "display_name": "Python 3",
   "language": "python",
   "name": "python3"
  },
  "language_info": {
   "codemirror_mode": {
    "name": "ipython",
    "version": 3
   },
   "file_extension": ".py",
   "mimetype": "text/x-python",
   "name": "python",
   "nbconvert_exporter": "python",
   "pygments_lexer": "ipython3",
   "version": "3.7.1"
  }
 },
 "nbformat": 4,
 "nbformat_minor": 2
}
